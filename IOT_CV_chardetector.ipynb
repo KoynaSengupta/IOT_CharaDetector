{
  "nbformat": 4,
  "nbformat_minor": 0,
  "metadata": {
    "colab": {
      "name": "IOT_CV_chardetector.ipynb",
      "provenance": [],
      "collapsed_sections": []
    },
    "kernelspec": {
      "name": "python3",
      "display_name": "Python 3"
    },
    "language_info": {
      "name": "python"
    }
  },
  "cells": [
    {
      "cell_type": "code",
      "metadata": {
        "id": "7mUSWLZnwkT9"
      },
      "source": [
        " "
      ],
      "execution_count": null,
      "outputs": []
    },
    {
      "cell_type": "markdown",
      "metadata": {
        "id": "-Sxv9ZwE62qT"
      },
      "source": [
        "## **COMPUTER VISION AND INTERNET OF THINGS**\n",
        "## Task: Implement Character Detector which extracts Printed or Handwritten Text from an Image or Video\n",
        "\n",
        "## Name:Koyna Sengupta"
      ]
    },
    {
      "cell_type": "markdown",
      "metadata": {
        "id": "yN4q_i8l7VHQ"
      },
      "source": [
        "## **Upload the image to colab**"
      ]
    },
    {
      "cell_type": "code",
      "metadata": {
        "id": "8e--jPCmn4cs",
        "colab": {
          "resources": {
            "http://localhost:8080/nbextensions/google.colab/files.js": {
              "data": "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",
              "ok": true,
              "headers": [
                [
                  "content-type",
                  "application/javascript"
                ]
              ],
              "status": 200,
              "status_text": ""
            }
          },
          "base_uri": "https://localhost:8080/",
          "height": 73
        },
        "outputId": "2ed96db3-d662-4184-be93-8dd806d805c8"
      },
      "source": [
        "from google.colab import files\n",
        "uploaded = files.upload()\n"
      ],
      "execution_count": 1,
      "outputs": [
        {
          "output_type": "display_data",
          "data": {
            "text/html": [
              "\n",
              "     <input type=\"file\" id=\"files-3cf9ed60-ece8-415d-80f6-5a53ddfa6225\" name=\"files[]\" multiple disabled\n",
              "        style=\"border:none\" />\n",
              "     <output id=\"result-3cf9ed60-ece8-415d-80f6-5a53ddfa6225\">\n",
              "      Upload widget is only available when the cell has been executed in the\n",
              "      current browser session. Please rerun this cell to enable.\n",
              "      </output>\n",
              "      <script src=\"/nbextensions/google.colab/files.js\"></script> "
            ],
            "text/plain": [
              "<IPython.core.display.HTML object>"
            ]
          },
          "metadata": {
            "tags": []
          }
        },
        {
          "output_type": "stream",
          "text": [
            "Saving Hogwarts.png to Hogwarts.png\n"
          ],
          "name": "stdout"
        }
      ]
    },
    {
      "cell_type": "markdown",
      "metadata": {
        "id": "5yLc-bjf6zyj"
      },
      "source": [
        "## **now install all required libraries**"
      ]
    },
    {
      "cell_type": "code",
      "metadata": {
        "colab": {
          "base_uri": "https://localhost:8080/"
        },
        "id": "kUpKHmpup5pF",
        "outputId": "855e600d-cc08-42fa-d91e-f9ed4871a141"
      },
      "source": [
        "!sudo apt install tesseract-ocr\n",
        "!pip install pytesseract \n",
        "!pip install pyttsx3"
      ],
      "execution_count": 2,
      "outputs": [
        {
          "output_type": "stream",
          "text": [
            "Reading package lists... Done\n",
            "Building dependency tree       \n",
            "Reading state information... Done\n",
            "The following additional packages will be installed:\n",
            "  tesseract-ocr-eng tesseract-ocr-osd\n",
            "The following NEW packages will be installed:\n",
            "  tesseract-ocr tesseract-ocr-eng tesseract-ocr-osd\n",
            "0 upgraded, 3 newly installed, 0 to remove and 40 not upgraded.\n",
            "Need to get 4,795 kB of archives.\n",
            "After this operation, 15.8 MB of additional disk space will be used.\n",
            "Get:1 http://archive.ubuntu.com/ubuntu bionic/universe amd64 tesseract-ocr-eng all 4.00~git24-0e00fe6-1.2 [1,588 kB]\n",
            "Get:2 http://archive.ubuntu.com/ubuntu bionic/universe amd64 tesseract-ocr-osd all 4.00~git24-0e00fe6-1.2 [2,989 kB]\n",
            "Get:3 http://archive.ubuntu.com/ubuntu bionic/universe amd64 tesseract-ocr amd64 4.00~git2288-10f4998a-2 [218 kB]\n",
            "Fetched 4,795 kB in 1s (4,372 kB/s)\n",
            "debconf: unable to initialize frontend: Dialog\n",
            "debconf: (No usable dialog-like program is installed, so the dialog based frontend cannot be used. at /usr/share/perl5/Debconf/FrontEnd/Dialog.pm line 76, <> line 3.)\n",
            "debconf: falling back to frontend: Readline\n",
            "debconf: unable to initialize frontend: Readline\n",
            "debconf: (This frontend requires a controlling tty.)\n",
            "debconf: falling back to frontend: Teletype\n",
            "dpkg-preconfigure: unable to re-open stdin: \n",
            "Selecting previously unselected package tesseract-ocr-eng.\n",
            "(Reading database ... 160837 files and directories currently installed.)\n",
            "Preparing to unpack .../tesseract-ocr-eng_4.00~git24-0e00fe6-1.2_all.deb ...\n",
            "Unpacking tesseract-ocr-eng (4.00~git24-0e00fe6-1.2) ...\n",
            "Selecting previously unselected package tesseract-ocr-osd.\n",
            "Preparing to unpack .../tesseract-ocr-osd_4.00~git24-0e00fe6-1.2_all.deb ...\n",
            "Unpacking tesseract-ocr-osd (4.00~git24-0e00fe6-1.2) ...\n",
            "Selecting previously unselected package tesseract-ocr.\n",
            "Preparing to unpack .../tesseract-ocr_4.00~git2288-10f4998a-2_amd64.deb ...\n",
            "Unpacking tesseract-ocr (4.00~git2288-10f4998a-2) ...\n",
            "Setting up tesseract-ocr-osd (4.00~git24-0e00fe6-1.2) ...\n",
            "Setting up tesseract-ocr-eng (4.00~git24-0e00fe6-1.2) ...\n",
            "Setting up tesseract-ocr (4.00~git2288-10f4998a-2) ...\n",
            "Processing triggers for man-db (2.8.3-2ubuntu0.1) ...\n",
            "Collecting pytesseract\n",
            "  Downloading pytesseract-0.3.8.tar.gz (14 kB)\n",
            "Requirement already satisfied: Pillow in /usr/local/lib/python3.7/dist-packages (from pytesseract) (7.1.2)\n",
            "Building wheels for collected packages: pytesseract\n",
            "  Building wheel for pytesseract (setup.py) ... \u001b[?25l\u001b[?25hdone\n",
            "  Created wheel for pytesseract: filename=pytesseract-0.3.8-py2.py3-none-any.whl size=14072 sha256=680e545e916b8a599b67be605a8748f865bccd288f465c2c53d2ee84a75c9fcb\n",
            "  Stored in directory: /root/.cache/pip/wheels/a4/89/b9/3f11250225d0f90e5454fcc30fd1b7208db226850715aa9ace\n",
            "Successfully built pytesseract\n",
            "Installing collected packages: pytesseract\n",
            "Successfully installed pytesseract-0.3.8\n",
            "Collecting pyttsx3\n",
            "  Downloading pyttsx3-2.90-py3-none-any.whl (39 kB)\n",
            "Installing collected packages: pyttsx3\n",
            "Successfully installed pyttsx3-2.90\n"
          ],
          "name": "stdout"
        }
      ]
    },
    {
      "cell_type": "markdown",
      "metadata": {
        "id": "wTAr75Ty7mQV"
      },
      "source": [
        "## **importing libraries**"
      ]
    },
    {
      "cell_type": "code",
      "metadata": {
        "id": "hgxQSDAkqebb"
      },
      "source": [
        "import pytesseract\n",
        "import shutil\n",
        "import os\n",
        "import random\n",
        "try:\n",
        " from PIL import Image\n",
        "except ImportError:\n",
        " import Image\n",
        "\n",
        "\n",
        "\n",
        "import numpy as np\n",
        "import pandas as pd\n",
        "import cv2 \n",
        "from google.colab.patches import cv2_imshow    \n",
        "from skimage import io\n",
        "from PIL import Image\n",
        "import matplotlib.pylab as plt"
      ],
      "execution_count": 3,
      "outputs": []
    },
    {
      "cell_type": "markdown",
      "metadata": {
        "id": "2s0_M1CA7uEs"
      },
      "source": [
        "## **Read image**"
      ]
    },
    {
      "cell_type": "code",
      "metadata": {
        "id": "ZcreGvDnqkoZ"
      },
      "source": [
        "image_path_in_colab = 'Hogwarts.png'\n",
        "img = cv2.imread('Hogwarts.png')"
      ],
      "execution_count": 4,
      "outputs": []
    },
    {
      "cell_type": "markdown",
      "metadata": {
        "id": "CHM4Dv9v70RF"
      },
      "source": [
        "# **Text Extration**"
      ]
    },
    {
      "cell_type": "code",
      "metadata": {
        "id": "aEfgRhlyq0UK",
        "outputId": "c0fd0455-e88e-405f-d067-e12d024a79d2",
        "colab": {
          "base_uri": "https://localhost:8080/",
          "height": 1000
        }
      },
      "source": [
        " extractedInformation = pytesseract.image_to_string(Image.open(image_path_in_colab))\n",
        "print(extractedInformation) \n",
        "img = cv2.cvtColor(img,cv2.COLOR_BGR2RGB)\n",
        "print(pytesseract.image_to_boxes(Image.open(image_path_in_colab)))\n",
        "\n",
        "hImg,wImg,_ = img.shape\n",
        "\n",
        "boxes = pytesseract.image_to_boxes(img)\n",
        "\n",
        "for b in boxes.splitlines():\n",
        "  print(b)\n",
        "  b=b.split(' ')\n",
        "  print(b)\n",
        "  x,y,w,h = int(b[1]),int(b[2]),int(b[3]),int(b[4])\n",
        "  cv2.rectangle(img,(x,hImg-y),(w,hImg-h),(0,0,255),1)\n",
        "  cv2.putText(img,b[0],(x,hImg-y+25),cv2.FONT_HERSHEY_COMPLEX,1,(255,255,255))\n",
        "\n",
        "from google.colab.patches import cv2_imshow\n",
        "\n",
        "!curl -o logo.png https://colab.research.google.com/img/colab_favicon_256px.png\n",
        "import cv2\n",
        "\n",
        "cv2_imshow(img)\n",
        "\n",
        "cv2.waitKey(0)"
      ],
      "execution_count": 5,
      "outputs": [
        {
          "output_type": "stream",
          "text": [
            "Itis the unknown we\n",
            "fear when we look upon\n",
            "death and darkness,\n",
            "nothing more.\n",
            "\n",
            "ALBUS DUMBLEDORE\n",
            "\f\n",
            "I 108 394 113 414 0\n",
            "t 116 393 125 411 0\n",
            "i 133 394 138 415 0\n",
            "s 141 393 152 408 0\n",
            "t 159 393 169 411 0\n",
            "h 176 394 184 415 0\n",
            "e 188 393 200 408 0\n",
            "u 209 393 223 408 0\n",
            "n 227 394 239 408 0\n",
            "k 243 394 257 415 0\n",
            "n 259 394 273 408 0\n",
            "o 276 393 288 408 0\n",
            "w 291 393 299 408 0\n",
            "n 303 393 327 408 0\n",
            "w 338 393 346 408 0\n",
            "e 351 393 374 408 0\n",
            "f 87 360 95 381 0\n",
            "e 95 359 108 381 0\n",
            "a 111 359 122 374 0\n",
            "r 126 360 136 374 0\n",
            "w 143 359 160 374 0\n",
            "h 162 372 165 374 0\n",
            "e 173 359 191 381 0\n",
            "n 198 360 209 374 0\n",
            "w 221 359 229 374 0\n",
            "e 233 359 243 374 0\n",
            "l 244 359 271 381 0\n",
            "o 274 359 288 374 0\n",
            "o 290 359 296 374 0\n",
            "k 302 359 321 381 0\n",
            "u 330 359 344 374 0\n",
            "p 346 353 360 374 0\n",
            "o 363 359 369 374 0\n",
            "n 375 359 394 374 0\n",
            "d 112 325 123 347 0\n",
            "e 123 325 127 347 0\n",
            "a 135 325 148 340 0\n",
            "t 150 325 157 340 0\n",
            "h 162 325 181 347 0\n",
            "a 193 325 198 338 0\n",
            "n 201 325 206 340 0\n",
            "d 214 325 234 347 0\n",
            "d 247 325 256 340 0\n",
            "a 258 325 270 347 0\n",
            "r 270 325 277 340 0\n",
            "k 283 325 295 347 0\n",
            "n 297 325 305 340 0\n",
            "e 310 325 320 340 0\n",
            "s 324 325 336 340 0\n",
            "s 338 325 348 340 0\n",
            ", 351 322 368 340 0\n",
            "n 150 291 155 305 0\n",
            "o 158 291 170 306 0\n",
            "t 175 290 189 308 0\n",
            "h 189 290 192 308 0\n",
            "i 201 291 208 312 0\n",
            "n 213 291 232 312 0\n",
            "g 236 284 250 306 0\n",
            "m 258 291 271 306 0\n",
            "o 272 291 280 306 0\n",
            "r 284 291 298 305 0\n",
            "e 300 291 310 306 0\n",
            ". 312 290 330 306 0\n",
            "A 131 236 141 250 0\n",
            "L 147 236 156 250 0\n",
            "B 158 236 168 250 0\n",
            "U 172 236 179 250 0\n",
            "S 187 236 196 250 0\n",
            "D 206 236 219 250 0\n",
            "U 222 236 233 250 0\n",
            "M 238 236 249 250 0\n",
            "B 249 236 252 250 0\n",
            "L 261 236 276 250 0\n",
            "E 280 236 290 250 0\n",
            "D 293 236 304 250 0\n",
            "O 308 236 318 250 0\n",
            "R 326 236 332 250 0\n",
            "E 339 236 349 250 0\n",
            "\n",
            "I 108 394 113 414 0\n",
            "['I', '108', '394', '113', '414', '0']\n",
            "t 116 393 125 411 0\n",
            "['t', '116', '393', '125', '411', '0']\n",
            "i 133 394 138 415 0\n",
            "['i', '133', '394', '138', '415', '0']\n",
            "s 141 393 152 408 0\n",
            "['s', '141', '393', '152', '408', '0']\n",
            "t 159 393 169 411 0\n",
            "['t', '159', '393', '169', '411', '0']\n",
            "h 176 394 184 415 0\n",
            "['h', '176', '394', '184', '415', '0']\n",
            "e 188 393 200 408 0\n",
            "['e', '188', '393', '200', '408', '0']\n",
            "u 209 393 223 408 0\n",
            "['u', '209', '393', '223', '408', '0']\n",
            "n 227 394 239 408 0\n",
            "['n', '227', '394', '239', '408', '0']\n",
            "k 243 394 257 415 0\n",
            "['k', '243', '394', '257', '415', '0']\n",
            "n 259 394 273 408 0\n",
            "['n', '259', '394', '273', '408', '0']\n",
            "o 276 393 288 408 0\n",
            "['o', '276', '393', '288', '408', '0']\n",
            "w 291 393 299 408 0\n",
            "['w', '291', '393', '299', '408', '0']\n",
            "n 303 393 327 408 0\n",
            "['n', '303', '393', '327', '408', '0']\n",
            "w 338 393 346 408 0\n",
            "['w', '338', '393', '346', '408', '0']\n",
            "e 351 393 374 408 0\n",
            "['e', '351', '393', '374', '408', '0']\n",
            "f 87 360 95 381 0\n",
            "['f', '87', '360', '95', '381', '0']\n",
            "e 95 359 108 381 0\n",
            "['e', '95', '359', '108', '381', '0']\n",
            "a 111 359 122 374 0\n",
            "['a', '111', '359', '122', '374', '0']\n",
            "r 126 360 136 374 0\n",
            "['r', '126', '360', '136', '374', '0']\n",
            "w 143 359 160 374 0\n",
            "['w', '143', '359', '160', '374', '0']\n",
            "h 162 372 165 374 0\n",
            "['h', '162', '372', '165', '374', '0']\n",
            "e 173 359 191 381 0\n",
            "['e', '173', '359', '191', '381', '0']\n",
            "n 198 360 209 374 0\n",
            "['n', '198', '360', '209', '374', '0']\n",
            "w 221 359 229 374 0\n",
            "['w', '221', '359', '229', '374', '0']\n",
            "e 233 359 243 374 0\n",
            "['e', '233', '359', '243', '374', '0']\n",
            "l 244 359 271 381 0\n",
            "['l', '244', '359', '271', '381', '0']\n",
            "o 274 359 288 374 0\n",
            "['o', '274', '359', '288', '374', '0']\n",
            "o 290 359 296 374 0\n",
            "['o', '290', '359', '296', '374', '0']\n",
            "k 302 359 321 381 0\n",
            "['k', '302', '359', '321', '381', '0']\n",
            "u 330 359 344 374 0\n",
            "['u', '330', '359', '344', '374', '0']\n",
            "p 346 353 360 374 0\n",
            "['p', '346', '353', '360', '374', '0']\n",
            "o 363 359 369 374 0\n",
            "['o', '363', '359', '369', '374', '0']\n",
            "n 375 359 394 374 0\n",
            "['n', '375', '359', '394', '374', '0']\n",
            "d 112 325 123 347 0\n",
            "['d', '112', '325', '123', '347', '0']\n",
            "e 123 325 127 347 0\n",
            "['e', '123', '325', '127', '347', '0']\n",
            "a 135 325 148 340 0\n",
            "['a', '135', '325', '148', '340', '0']\n",
            "t 150 325 157 340 0\n",
            "['t', '150', '325', '157', '340', '0']\n",
            "h 162 325 181 347 0\n",
            "['h', '162', '325', '181', '347', '0']\n",
            "a 193 325 198 338 0\n",
            "['a', '193', '325', '198', '338', '0']\n",
            "n 201 325 206 340 0\n",
            "['n', '201', '325', '206', '340', '0']\n",
            "d 214 325 234 347 0\n",
            "['d', '214', '325', '234', '347', '0']\n",
            "d 247 325 256 340 0\n",
            "['d', '247', '325', '256', '340', '0']\n",
            "a 258 325 270 347 0\n",
            "['a', '258', '325', '270', '347', '0']\n",
            "r 270 325 277 340 0\n",
            "['r', '270', '325', '277', '340', '0']\n",
            "k 283 325 295 347 0\n",
            "['k', '283', '325', '295', '347', '0']\n",
            "n 297 325 305 340 0\n",
            "['n', '297', '325', '305', '340', '0']\n",
            "e 310 325 320 340 0\n",
            "['e', '310', '325', '320', '340', '0']\n",
            "s 324 325 336 340 0\n",
            "['s', '324', '325', '336', '340', '0']\n",
            "s 338 325 348 340 0\n",
            "['s', '338', '325', '348', '340', '0']\n",
            ", 351 322 368 340 0\n",
            "[',', '351', '322', '368', '340', '0']\n",
            "n 150 291 155 305 0\n",
            "['n', '150', '291', '155', '305', '0']\n",
            "o 158 291 170 306 0\n",
            "['o', '158', '291', '170', '306', '0']\n",
            "t 175 290 189 308 0\n",
            "['t', '175', '290', '189', '308', '0']\n",
            "h 189 290 192 308 0\n",
            "['h', '189', '290', '192', '308', '0']\n",
            "i 201 291 208 312 0\n",
            "['i', '201', '291', '208', '312', '0']\n",
            "n 213 291 232 312 0\n",
            "['n', '213', '291', '232', '312', '0']\n",
            "g 236 284 250 306 0\n",
            "['g', '236', '284', '250', '306', '0']\n",
            "m 258 291 271 306 0\n",
            "['m', '258', '291', '271', '306', '0']\n",
            "o 272 291 280 306 0\n",
            "['o', '272', '291', '280', '306', '0']\n",
            "r 284 291 298 305 0\n",
            "['r', '284', '291', '298', '305', '0']\n",
            "e 300 291 310 306 0\n",
            "['e', '300', '291', '310', '306', '0']\n",
            ". 312 290 330 306 0\n",
            "['.', '312', '290', '330', '306', '0']\n",
            "A 131 236 141 250 0\n",
            "['A', '131', '236', '141', '250', '0']\n",
            "L 147 236 156 250 0\n",
            "['L', '147', '236', '156', '250', '0']\n",
            "B 158 236 168 250 0\n",
            "['B', '158', '236', '168', '250', '0']\n",
            "U 172 236 179 250 0\n",
            "['U', '172', '236', '179', '250', '0']\n",
            "S 187 236 196 250 0\n",
            "['S', '187', '236', '196', '250', '0']\n",
            "D 206 236 219 250 0\n",
            "['D', '206', '236', '219', '250', '0']\n",
            "U 222 236 233 250 0\n",
            "['U', '222', '236', '233', '250', '0']\n",
            "M 238 236 249 250 0\n",
            "['M', '238', '236', '249', '250', '0']\n",
            "B 249 236 252 250 0\n",
            "['B', '249', '236', '252', '250', '0']\n",
            "L 261 236 276 250 0\n",
            "['L', '261', '236', '276', '250', '0']\n",
            "E 280 236 290 250 0\n",
            "['E', '280', '236', '290', '250', '0']\n",
            "D 293 236 304 250 0\n",
            "['D', '293', '236', '304', '250', '0']\n",
            "O 308 236 318 250 0\n",
            "['O', '308', '236', '318', '250', '0']\n",
            "R 326 236 332 250 0\n",
            "['R', '326', '236', '332', '250', '0']\n",
            "E 339 236 349 250 0\n",
            "['E', '339', '236', '349', '250', '0']\n",
            "  % Total    % Received % Xferd  Average Speed   Time    Time     Time  Current\n",
            "                                 Dload  Upload   Total   Spent    Left  Speed\n",
            "100  4534  100  4534    0     0  69753      0 --:--:-- --:--:-- --:--:-- 69753\n"
          ],
          "name": "stdout"
        },
        {
          "output_type": "display_data",
          "data": {
            "image/png": "[encoded data removed]",
            "text/plain": [
              "<PIL.Image.Image image mode=RGB size=480x720 at 0x7FA1F37B8D50>"
            ]
          },
          "metadata": {
            "tags": []
          }
        },
        {
          "output_type": "execute_result",
          "data": {
            "text/plain": [
              "-1"
            ]
          },
          "metadata": {
            "tags": []
          },
          "execution_count": 5
        }
      ]
    },
    {
      "cell_type": "markdown",
      "metadata": {
        "id": "btEZeaka7_Aw"
      },
      "source": [
        "## Here it will detects the chracters from image  displays the chracters "
      ]
    }
  ]
}